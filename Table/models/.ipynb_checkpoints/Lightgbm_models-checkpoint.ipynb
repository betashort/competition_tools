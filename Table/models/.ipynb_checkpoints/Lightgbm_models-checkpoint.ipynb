{
 "cells": [
  {
   "cell_type": "code",
   "execution_count": 1,
   "metadata": {},
   "outputs": [
    {
     "name": "stderr",
     "output_type": "stream",
     "text": [
      "/anaconda3/lib/python3.6/site-packages/lightgbm/__init__.py:46: UserWarning: Starting from version 2.2.1, the library file in distribution wheels for macOS is built by the Apple Clang (Xcode_8.3.1) compiler.\n",
      "This means that in case of installing LightGBM from PyPI via the ``pip install lightgbm`` command, you don't need to install the gcc compiler anymore.\n",
      "Instead of that, you need to install the OpenMP library, which is required for running LightGBM on the system with the Apple Clang compiler.\n",
      "You can install the OpenMP library by the following command: ``brew install libomp``.\n",
      "  \"You can install the OpenMP library by the following command: ``brew install libomp``.\", UserWarning)\n"
     ]
    }
   ],
   "source": [
    "import lightgbm as lgb\n",
    "from sklearn.model_selection import train_test_split, KFold\n"
   ]
  },
  {
   "cell_type": "markdown",
   "metadata": {},
   "source": [
    "# LightGBM\n",
    "\n",
    "1. インスタンス\n",
    "(X, y)\n",
    "\n",
    "## ノーマル\n",
    "2. fit()\n",
    "3. importance\n",
    "4. check_params\n",
    "5. predict(self, test, test_id, name):\n",
    "\n",
    "## k-hold\n",
    "6. fit_k_hold(self, n_split=3):\n",
    "7. pred_k_hold(self, test, test_id, name):"
   ]
  },
  {
   "cell_type": "markdown",
   "metadata": {},
   "source": [
    "# 回帰問題|Regression"
   ]
  },
  {
   "cell_type": "code",
   "execution_count": 4,
   "metadata": {},
   "outputs": [],
   "source": [
    "class model_learning(object):\n",
    "    def __init__(self, X, y):\n",
    "        self.y = y\n",
    "        \n",
    "        self.X = X\n",
    "        \n",
    "        self.X_train, self.X_val, self.y_train, self.y_val = train_test_split(self.X, self.y, test_size=0.3, random_state=0)\n",
    "        self.lgb_train = lgb.Dataset(self.X_train, self.y_train)\n",
    "        self.lgb_eval = lgb.Dataset(self.X_val, self.y_val, reference=self.lgb_train)\n",
    "        \n",
    "        self.params = {\n",
    "            'task' : 'train',\n",
    "            'boosting_type' : 'gbdt',\n",
    "            'objective' : 'regression',\n",
    "            'metric' : {'l2'},\n",
    "            'importance_type':'gain',\n",
    "            'num_leaves' : 30,\n",
    "            'learning_rate' : 0.1,\n",
    "            'feature_fraction' : 0.8,\n",
    "            'bagging_fraction' : 0.8,\n",
    "            'bagging_freq': 5,\n",
    "            'zero_as_missing':True,\n",
    "            'verbosity' : -1,\n",
    "        }\n",
    "        \n",
    "    def fit(self):\n",
    "        # train\n",
    "        self.gbm = lgb.train(self.params,\n",
    "                        self.lgb_train,\n",
    "                        num_boost_round=100,\n",
    "                        valid_sets=self.lgb_eval,\n",
    "                        early_stopping_rounds=20)\n",
    "        self.y_pred_lgb = self.gbm.predict(self.X_val, num_iteration=self.gbm.best_iteration)\n",
    "        \n",
    "    \n",
    "    def importance(self):\n",
    "        self.importance_ = pd.DataFrame({'特徴': self.X.columns, \n",
    "                                         'importance':self.gbm.feature_importance()}\n",
    "                                       ).sort_values('importance', ascending=False)\n",
    "        \n",
    "        return self.importance_\n",
    "        \n",
    "    def check_params(self):\n",
    "        return self.gbm.get_params()\n",
    "    \n",
    "    \n",
    "    def predict(self, test, test_id, name):\n",
    "        y_pred = self.gbm.predict(test, num_iteration=self.gbm.best_iteration)\n",
    "        submit = pd.DataFrame({'id':test_id, 'keiyaku_pr':y_pred})\n",
    "        submit.to_csv(name, index=None, header=None, sep='\\t')\n",
    "    \n",
    "    \n",
    "    def fit_k_hold(self, n_split=3):\n",
    "        self.n_split = n_split\n",
    "        kf = KFold(n_splits=self.n_split)\n",
    "        \n",
    "        self.score_list = []\n",
    "        self.models = []\n",
    "        \n",
    "        for fold_, (train_index, val_index) in enumerate(kf.split(self.X, self.y)):\n",
    "            X_train = self.X.iloc[train_index]\n",
    "            y_train = self.y.iloc[train_index]\n",
    "            \n",
    "            X_val = self.X.iloc[val_index]\n",
    "            y_val = self.y.iloc[val_index]\n",
    "            \n",
    "            lgb_train = lgb.Dataset(X_train, y_train)\n",
    "            lgb_eval = lgb.Dataset(X_val, y_val, reference=self.lgb_train)\n",
    "            gbm = lgb.train(self.params,\n",
    "                        lgb_train,\n",
    "                        num_boost_round=100,\n",
    "                        valid_sets=lgb_eval,\n",
    "                        early_stopping_rounds=20)\n",
    "            \n",
    "            y_pred_lgb = gbm.predict(X_val, num_iteration=gbm.best_iteration)\n",
    "            \n",
    "            ##評価関数\n",
    "            #(y_val, y_pred_lgb)\n",
    "            self.score_list.append()\n",
    "            \n",
    "            \n",
    "            self.models.append(gbm)\n",
    "            \n",
    "        print(\"mean_score:\", np.mean(self.score_list))\n",
    "        \n",
    "        self.mape = np.mean(self.score_list)\n",
    "        \n",
    "        \n",
    "    def pred_k_hold(self, test, test_id, name):\n",
    "        # testの予測\n",
    "        test_pred = np.zeros((len(test), self.n_split))  # 行:len(test), 列:3のall zeroの配列を用意\n",
    "        \n",
    "        for fold_, gbm in enumerate(self.models):  # 学習ずみのmodelをgbmに入れる\n",
    "            pred_ = gbm.predict(test, num_iteration=gbm.best_iteration)  # testの予測\n",
    "            test_pred[:, fold_] = pred_  # １回目は0列目、2回目は1列目、2回目は3列目に格納\n",
    "            \n",
    "        pred = (np.mean(test_pred, axis=1) ).astype(int)  # 平均をとって、0と１に変換\n",
    "        \n",
    "        submit = pd.DataFrame({'id':test_id, 'pred':pred})\n",
    "        submit.to_csv(name, index=None, header=None)"
   ]
  },
  {
   "cell_type": "markdown",
   "metadata": {},
   "source": [
    "# 分類問題|Classifire"
   ]
  },
  {
   "cell_type": "code",
   "execution_count": null,
   "metadata": {},
   "outputs": [],
   "source": []
  }
 ],
 "metadata": {
  "kernelspec": {
   "display_name": "Python 3",
   "language": "python",
   "name": "python3"
  },
  "language_info": {
   "codemirror_mode": {
    "name": "ipython",
    "version": 3
   },
   "file_extension": ".py",
   "mimetype": "text/x-python",
   "name": "python",
   "nbconvert_exporter": "python",
   "pygments_lexer": "ipython3",
   "version": "3.6.9"
  }
 },
 "nbformat": 4,
 "nbformat_minor": 2
}
