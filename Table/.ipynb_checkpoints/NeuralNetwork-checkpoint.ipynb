{
 "cells": [
  {
   "cell_type": "code",
   "execution_count": 1,
   "metadata": {},
   "outputs": [],
   "source": [
    "import torch\n",
    "import torch.nn as nn\n",
    "import torch.optim as optim"
   ]
  },
  {
   "cell_type": "markdown",
   "metadata": {},
   "source": [
    "# データセットの作成"
   ]
  },
  {
   "cell_type": "code",
   "execution_count": 4,
   "metadata": {},
   "outputs": [],
   "source": [
    "def Data_To_DataLoader(X, y=None, mode='train', batch_size=32, shuffle=True):\n",
    "    if mode == 'train':\n",
    "        X = torch.tensor(X, dtype=torch.float32)\n",
    "        y = torch.tensor(y, dtype=torch.int32)\n",
    "        data = torch.utils.data.TensorDataset(X_train, y_train)\n",
    "        \n",
    "    elif mode == 'test':\n",
    "        X = torch.tensor(X, dtype=torch.float32)\n",
    "        data = torch.utils.data.TensorDataset(X)\n",
    "    \n",
    "    else:\n",
    "        return (\"mode is 'train' or 'test'\")\n",
    "        \n",
    "    data_loader = torch.utils.data.DataLoader(data, batch_size=batch_size, shuffle=shuffle)\n",
    "    \n",
    "    return data_loader"
   ]
  },
  {
   "cell_type": "markdown",
   "metadata": {},
   "source": [
    "# ネットワークの作成"
   ]
  },
  {
   "cell_type": "code",
   "execution_count": null,
   "metadata": {},
   "outputs": [],
   "source": [
    "class Net1D(nn.Module):\n",
    "    \n",
    "    def __init__(self):\n",
    "        super(Net1D,self).__init__()\n",
    "        \n",
    "        self.conv1 = nn.Sequential(nn.Conv1d(1, 8, kernel_size=3, stride=1),\n",
    "                                   nn.BatchNorm1d(8),\n",
    "                                   nn.ReLU(),\n",
    "                                   nn.MaxPool1d(kernel_size=3, stride=2),\n",
    "                                  )\n",
    "        \n",
    "        self.conv2 = nn.Sequential(nn.Conv1d(8, 32, kernel_size=5, stride=1),\n",
    "                                   nn.BatchNorm1d(32),\n",
    "                                   nn.ReLU(),\n",
    "                                   nn.MaxPool1d(kernel_size=5, stride=2),\n",
    "                                  )\n",
    "        \n",
    "        self.conv3 = nn.Sequential(nn.Conv1d(32, 64, kernel_size=7, stride=1),\n",
    "                                   nn.BatchNorm1d(64),\n",
    "                                   nn.ReLU(),\n",
    "                                   nn.MaxPool1d(kernel_size=7, stride=2),\n",
    "                                  )\n",
    "        \n",
    "        \n",
    "        self.dense = nn.Sequential(nn.Linear(1088,512),\n",
    "                                   nn.ReLU(),\n",
    "                                   nn.Dropout(),\n",
    "                                   nn.Linear(512,128),\n",
    "                                   nn.ReLU(),\n",
    "                                   nn.Dropout(),\n",
    "                                   nn.Linear(128, 1),\n",
    "                                   nn.Sigmoid()\n",
    "                                  )\n",
    "        \n",
    "    #ネットワークの順伝播(forward)の流れを記述\n",
    "    def forward(self,x):\n",
    "        \n",
    "        x = self.conv1(x)\n",
    "        x = self.conv2(x)\n",
    "        x = self.conv3(x)\n",
    "        x = x.view(x.size(0),-1)\n",
    "        x = self.dense(x)\n",
    "\n",
    "        return x\n",
    "    \n",
    "    # CNNの場合\n",
    "    # Dense層への入力数の確認に便利\n",
    "    def check_size(self, x):\n",
    "        x = self.conv1(x)\n",
    "        x = self.conv2(x)\n",
    "        x = self.conv3(x)\n",
    "        x = x.view(x.size(0),-1)\n",
    "\n",
    "        return x"
   ]
  },
  {
   "cell_type": "markdown",
   "metadata": {},
   "source": [
    "## デバイスのチェック"
   ]
  },
  {
   "cell_type": "code",
   "execution_count": null,
   "metadata": {},
   "outputs": [],
   "source": [
    "device='cuda' if torch.cuda.is_available() else 'cpu'"
   ]
  },
  {
   "cell_type": "markdown",
   "metadata": {},
   "source": [
    "## CNNの場合- Dense入力のチェック -"
   ]
  },
  {
   "cell_type": "code",
   "execution_count": null,
   "metadata": {},
   "outputs": [],
   "source": [
    "net = Net1D().to(device)\n",
    "\n",
    "size_check = torch.FloatTensor(10, 1, 200)\n",
    "size_check = size_check.to(device)\n",
    "size_check = net.check_size(size_check)\n",
    "print(size_check.size())"
   ]
  },
  {
   "cell_type": "markdown",
   "metadata": {},
   "source": [
    "# 学習の設定"
   ]
  },
  {
   "cell_type": "code",
   "execution_count": null,
   "metadata": {},
   "outputs": [],
   "source": [
    "net = Net1D().to(device)\n",
    "\n",
    "#weights = torch.tensor([1]).to(device)\n",
    "\n",
    "#==== 損失関数 ====\n",
    "criterion = nn.BCELoss()\n",
    "\n",
    "#==== 最適化アルゴリズムの選択 ====\n",
    "optimizer = optim.Adam(net.parameters(), lr=0.001)\n",
    "\n"
   ]
  },
  {
   "cell_type": "markdown",
   "metadata": {},
   "source": [
    "# 学習"
   ]
  },
  {
   "cell_type": "code",
   "execution_count": null,
   "metadata": {},
   "outputs": [],
   "source": [
    "#==== 学習 ====\n",
    "def learning(train_loader, val_loader, num_epochs=10):\n",
    "    train_loss_list = []\n",
    "    train_acc_list = []\n",
    "    valid_loss_list = []\n",
    "    valid_acc_list = []\n",
    "    \n",
    "    for epoch in range(num_epochs):\n",
    "        train_loss = 0\n",
    "        train_acc = 0\n",
    "        valid_loss = 0\n",
    "        valid_acc = 0\n",
    "        \n",
    "        \n",
    "        #==== 学習 ====\n",
    "        net.train()\n",
    "        \n",
    "        for images, labels in train_loader:\n",
    "            #==== deviceに渡す ====\n",
    "            images = images.to(device)\n",
    "            labels = labels.to(device)\n",
    "            \n",
    "            #==== Optimizerの初期化 ====\n",
    "            optimizer.zero_grad()\n",
    "            \n",
    "            #==== forward processing ====\n",
    "            outputs = net(images)\n",
    "            \n",
    "            #==== Loss calcuration ====\n",
    "            loss = criterion(outputs, labels)\n",
    "            \n",
    "            #==== backward processing ====\n",
    "            loss.backward()\n",
    "            \n",
    "            #==== update optimizer ====\n",
    "            optimizer.step()\n",
    "            \n",
    "            #==== Loss ====\n",
    "            train_loss += loss.item()\n",
    "            \n",
    "            #==== 評価関数　==== \n",
    "            train_acc += average_precision_compute_fn(labels, outputs)\n",
    "            \n",
    "        avg_train_loss = train_loss / len(train_loader.dataset)\n",
    "        avg_train_acc = train_acc / len(train_loader.dataset)\n",
    "        \n",
    "        #==== 検証 =====\n",
    "        net.eval()\n",
    "        \n",
    "        #重みを変えさせない\n",
    "        with torch.no_grad():\n",
    "            for images, labels in valid_loader:\n",
    "                #==== deviceに渡す ====\n",
    "                images = images.to(device)\n",
    "                labels = labels.to(device)\n",
    "                \n",
    "                #==== forward processing ====\n",
    "                outputs = net(images)\n",
    "                \n",
    "                #==== Loss calcuration ====\n",
    "                loss = criterion(outputs, labels)\n",
    "                \n",
    "                #==== Loss ==== \n",
    "                valid_loss += loss.item()\n",
    "                \n",
    "                #==== 評価関数 ====\n",
    "                valid_acc += average_precision_compute_fn(labels, outputs)\n",
    "                \n",
    "        avg_valid_loss = valid_loss / len(valid_loader.dataset)\n",
    "        avg_valid_acc = valid_acc / len(valid_loader.dataset)\n",
    "        \n",
    "        print(f\"=====  epoch: {epoch+1} ===== \\\n",
    "        \\n train_loss: {avg_train_loss}, valid_loss: {avg_valid_loss} \\\n",
    "        \\n train_acc: {avg_train_acc}, valid_acc: {avg_valid_acc}\")\n",
    "        \n",
    "        train_loss_list.append(avg_train_loss)\n",
    "        train_acc_list.append(avg_train_acc)\n",
    "        valid_loss_list.append(avg_valid_loss)\n",
    "        valid_acc_list.append(avg_valid_acc)\n",
    "        \n",
    "    loss_list = [train_loss_list, valid_loss_list]\n",
    "    acc_list = [train_acc_list, valid_acc_list]\n",
    "    \n",
    "    return {\"loss\": loss_list, \n",
    "            \"score\": acc_list}"
   ]
  },
  {
   "cell_type": "code",
   "execution_count": null,
   "metadata": {},
   "outputs": [],
   "source": [
    "results = learning(train_loader, valid_loader)"
   ]
  },
  {
   "cell_type": "code",
   "execution_count": null,
   "metadata": {},
   "outputs": [],
   "source": []
  },
  {
   "cell_type": "markdown",
   "metadata": {},
   "source": [
    "## LossとScoreのグラフ"
   ]
  },
  {
   "cell_type": "code",
   "execution_count": null,
   "metadata": {},
   "outputs": [],
   "source": [
    "plt.figure(figsize=(16, 8))\n",
    "\n",
    "plt.subplot(2, 1, 1)\n",
    "plt.title(\"Loss\")\n",
    "plt.plot(loss_list[0], label=\"train\")\n",
    "plt.plot(loss_list[1], label=\"valid\")\n",
    "plt.legend()\n",
    "\n",
    "plt.subplot(2, 1, 2)\n",
    "plt.title(\"ACC\")\n",
    "plt.plot(acc_list[0], label=\"train\")\n",
    "plt.plot(acc_list[1], label=\"valid\")\n",
    "plt.legend()\n",
    "\n",
    "plt.show()"
   ]
  },
  {
   "cell_type": "code",
   "execution_count": null,
   "metadata": {},
   "outputs": [],
   "source": []
  },
  {
   "cell_type": "markdown",
   "metadata": {},
   "source": [
    "# モデルの保存"
   ]
  },
  {
   "cell_type": "code",
   "execution_count": null,
   "metadata": {},
   "outputs": [],
   "source": [
    "#====== 保存 =======  \n",
    "torch.save(net.state_dict(), \"net_1dcnn_maxpeak.pth\")"
   ]
  },
  {
   "cell_type": "markdown",
   "metadata": {},
   "source": [
    "# モデルの読み込み(パラメータ)"
   ]
  },
  {
   "cell_type": "code",
   "execution_count": null,
   "metadata": {},
   "outputs": [],
   "source": [
    "#====== ロード =======  \n",
    "model.load_state_dict(torch.load(\"model.pth\", map_location=device))"
   ]
  },
  {
   "cell_type": "code",
   "execution_count": null,
   "metadata": {},
   "outputs": [],
   "source": []
  },
  {
   "cell_type": "markdown",
   "metadata": {},
   "source": [
    "# 推論 予測"
   ]
  },
  {
   "cell_type": "code",
   "execution_count": null,
   "metadata": {},
   "outputs": [],
   "source": [
    "def prediction(test_loader):\n",
    "    pred_list = []\n",
    "    net.eval()\n",
    "    with torch.no_grad():\n",
    "        for images in test_loader:\n",
    "            images = images[0].to(device)\n",
    "            outputs = net.forward(images)\n",
    "            _#, pred = torch.max(outputs.data, 1)\n",
    "            #pred_list.append(pred.item())\n",
    "            pred_list.append(outputs.item())\n",
    "    return pred_list"
   ]
  },
  {
   "cell_type": "code",
   "execution_count": null,
   "metadata": {},
   "outputs": [],
   "source": [
    "pred = prediction(test_loader)"
   ]
  }
 ],
 "metadata": {
  "kernelspec": {
   "display_name": "Python 3",
   "language": "python",
   "name": "python3"
  },
  "language_info": {
   "codemirror_mode": {
    "name": "ipython",
    "version": 3
   },
   "file_extension": ".py",
   "mimetype": "text/x-python",
   "name": "python",
   "nbconvert_exporter": "python",
   "pygments_lexer": "ipython3",
   "version": "3.7.5"
  }
 },
 "nbformat": 4,
 "nbformat_minor": 4
}
