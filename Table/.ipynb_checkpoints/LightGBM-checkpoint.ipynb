{
 "cells": [
  {
   "cell_type": "markdown",
   "metadata": {},
   "source": [
    "# LightGBM"
   ]
  },
  {
   "cell_type": "code",
   "execution_count": null,
   "metadata": {},
   "outputs": [],
   "source": [
    "import lightgbm as lgb\n",
    "from sklearn.model_selection import KFold"
   ]
  },
  {
   "cell_type": "code",
   "execution_count": null,
   "metadata": {},
   "outputs": [],
   "source": [
    "params = {\n",
    "    'num_leaves': 12,\n",
    "    # 'min_child_samples': 500,\n",
    "    'objective': 'binary', #2値分類: 'binary', 多値分類: 'multiple', 回帰: 'regression'\n",
    "    'metric': 'None', # Noneにしないとbinary_loglossでEarlyStoppingがかかる\n",
    "    'max_depth': -1,\n",
    "    'learning_rate': 0.01,\n",
    "    \"boosting_type\": \"gbdt\", #dart\n",
    "    \"subsample\": 0.7,\n",
    "    \"verbosity\": -1,\n",
    "    'early_stopping_rounds': 300,\n",
    "    'n_estimators': 10000\n",
    "}"
   ]
  },
  {
   "cell_type": "code",
   "execution_count": null,
   "metadata": {},
   "outputs": [],
   "source": [
    "def lightgbms(X, X_test, y, params, NFOLDS=5, random_state=2020):\n",
    "    \n",
    "    #==== KFOLD ====\n",
    "    #KFold\n",
    "    #folds = KFold(n_splits=NFOLDS, shuffle=True, random_state=random_state)\n",
    "    #splits = folds.split(X, y)\n",
    "    \n",
    "    #StratiedKFold\n",
    "    #folds = StratifiedKFold(n_splits=NFOLDS, shuffle=True, random_state=random_state)\n",
    "    #splits = folds.split(X, y)\n",
    "    \n",
    "    #GroupKFold\n",
    "    #folds = GroupKFold(n_splits=NFOLDS)\n",
    "    #splits = folds.split(X, y, train_df[\"chip_id\"])\n",
    "    \n",
    "    preds = pd.DataFrame()\n",
    "    train_preds = pd.DataFrame()\n",
    "\n",
    "    columns = X.columns\n",
    "\n",
    "    y_preds = np.zeros(X_test.shape[0])\n",
    "    y_oof = np.zeros(X.shape[0])\n",
    "\n",
    "    score = 0\n",
    "    scores = []\n",
    "\n",
    "    feature_importances = pd.DataFrame()\n",
    "    feature_importances['feature'] = columns\n",
    "\n",
    "    for fold_n, (train_index, val_index) in enumerate(splits):\n",
    "        \n",
    "        # split train, Valid\n",
    "        X_train, X_val = X[columns].iloc[train_index], X[columns].iloc[val_index]\n",
    "        y_train, y_val = y.iloc[train_index], y.iloc[val_index]\n",
    "        \n",
    "        #==== Sampling Space ====\n",
    "        \n",
    "        \n",
    "        \n",
    "        #==== lightbgm dataset ====\n",
    "        dtrain = lgb.Dataset(X_train, y_train)\n",
    "        dval = lgb.Dataset(X_val, y_val)\n",
    "        \n",
    "        #==== train ====\n",
    "        clf = lgb.train(params,\n",
    "                        dtrain,\n",
    "                        valid_sets=[dtrain, dval],\n",
    "                        #categorical : categorical_feature=col_category,\n",
    "                        # custam metrics : feval=pr_auc,\n",
    "                        verbose_eval=100,\n",
    "                       )\n",
    "        \n",
    "        # feature importances\n",
    "        feature_importances[f'fold_{fold_n + 1}'] = clf.feature_importance()\n",
    "\n",
    "        # stack\n",
    "        y_pred_val = clf.predict(X_val)\n",
    "        y_oof[val_index] = y_pred_val\n",
    "        \n",
    "        # score\n",
    "        score = average_precision_score(y_val, y_pred_val)\n",
    "        scores.append(score)\n",
    "        \n",
    "\n",
    "        y_preds += clf.predict(X_test) / NFOLDS\n",
    "\n",
    "        train_preds[f\"Fold {fold_n + 1}\"] = clf.predict(X)\n",
    "\n",
    "        preds[f\"Fold {fold_n + 1}\"] = clf.predict(X_test)\n",
    "\n",
    "        del X_train, X_val, y_train, y_val\n",
    "        #gc.collect()\n",
    "        \n",
    "    print(np.mean(scores))\n",
    "    \n",
    "    return { \"y_oof\": y_oof, \n",
    "            \"y_pred\" : y_preds, \n",
    "            \"feature_importances\" : feature_importances, \n",
    "            \"score\" : scores,\n",
    "           }"
   ]
  },
  {
   "cell_type": "code",
   "execution_count": null,
   "metadata": {},
   "outputs": [],
   "source": [
    "results = lightgbms(X, test, y, params)"
   ]
  },
  {
   "cell_type": "markdown",
   "metadata": {},
   "source": [
    "# ラベル化"
   ]
  },
  {
   "cell_type": "code",
   "execution_count": null,
   "metadata": {},
   "outputs": [],
   "source": [
    "y_pred = []\n",
    " \n",
    "for x in preds:\n",
    "    y_pred.append(np.argmax(x))"
   ]
  },
  {
   "cell_type": "markdown",
   "metadata": {},
   "source": [
    "# feature_importance"
   ]
  },
  {
   "cell_type": "code",
   "execution_count": null,
   "metadata": {},
   "outputs": [],
   "source": [
    "feature_importances = pd.read_csv(path+'feature_importance/NO13_2_features.csv')\n",
    "feature_importances['average'] = feature_importances[[f'fold_{fold_n + 1}' for fold_n in range(10)]].mean(axis=1)\n",
    "\n",
    "plt.figure(figsize=(16, 16))\n",
    "sns.barplot(data=feature_importances.sort_values(by='average', ascending=False).head(50), x='average', y='feature');\n",
    "plt.title('250 TOP feature importance over {} folds average'.format(10))\n",
    "#plt.savefig('TOP250_feature_importance.png')\n",
    "plt.show()"
   ]
  },
  {
   "cell_type": "markdown",
   "metadata": {},
   "source": [
    "# 予測値の分布"
   ]
  },
  {
   "cell_type": "code",
   "execution_count": null,
   "metadata": {},
   "outputs": [],
   "source": [
    "import seaborn as sns\n",
    "sns.distplot(results[\"y_pred\"])"
   ]
  }
 ],
 "metadata": {
  "kernelspec": {
   "display_name": "Python 3",
   "language": "python",
   "name": "python3"
  },
  "language_info": {
   "codemirror_mode": {
    "name": "ipython",
    "version": 3
   },
   "file_extension": ".py",
   "mimetype": "text/x-python",
   "name": "python",
   "nbconvert_exporter": "python",
   "pygments_lexer": "ipython3",
   "version": "3.7.5"
  }
 },
 "nbformat": 4,
 "nbformat_minor": 2
}
