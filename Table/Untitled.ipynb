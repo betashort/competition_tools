{
 "cells": [
  {
   "cell_type": "markdown",
   "metadata": {},
   "source": [
    "# ラベリング"
   ]
  },
  {
   "cell_type": "code",
   "execution_count": null,
   "metadata": {},
   "outputs": [],
   "source": [
    "col_category = []\n",
    "new_col_category = []\n",
    "col = X.columns\n",
    "for column in col:\n",
    "    \n",
    "    if X[column].dtypes == object or X[column].dtypes == bool :\n",
    "        #print(column)\n",
    "        col_category.append(column)\n",
    "        #Missing\n",
    "        X[column] = X[column].fillna('NaN')\n",
    "        X_test[column] = X_test[column].fillna('NaN')\n",
    "        \n",
    "        #label encoding\n",
    "        ##map\n",
    "        class_map = {label: idx for idx, label in enumerate(np.unique(X[column]))}\n",
    "        \n",
    "        ##mapping\n",
    "        X[f'{column}_label'] = X[column].map(class_map)\n",
    "        X_test[f'{column}_label'] = X_test[column].map(class_map)\n",
    "        \n",
    "        new_col_category.append(f'{column}_label')    \n",
    "        \n",
    "        #frequency encoding\n",
    "        ##map\n",
    "        freq_map = X[column].value_counts()\n",
    "        ##mapping\n",
    "        X[f'{column}_freq'] = X[column].map(freq_map)\n",
    "        X_test[f'{column}_freq'] = X_test[column].map(freq_map)\n",
    "        \n",
    "        new_col_category.append(f'{column}_freq')\n",
    "        \n",
    "        ##Standard\n",
    "        ss = StandardScaler()\n",
    "        X[f'{column}_freq'] = ss.fit_transform(X[f'{column}_freq'].values.reshape(-1, 1))\n",
    "        X_test[f'{column}_freq'] = ss.transform(X_test[f'{column}_freq'].values.reshape(-1, 1))"
   ]
  },
  {
   "cell_type": "markdown",
   "metadata": {},
   "source": [
    "# targeting"
   ]
  },
  {
   "cell_type": "code",
   "execution_count": null,
   "metadata": {},
   "outputs": [],
   "source": [
    "for c in col_category:\n",
    "    \n",
    "    data_tmp = pd.DataFrame({c:X[c], 'target':target})\n",
    "    target_mean = data_tmp.groupby(c)['target'].mean()\n",
    "    \n",
    "    #X_test[f'{c}_target'] = X_test[c].map(target_mean)\n",
    "    X_test[f'{c}_target_log'] = np.log(X_test[c].map(target_mean))\n",
    "    tmp = np.repeat(np.nan, X.shape[0])\n",
    "    \n",
    "    kf = KFold(n_splits=4, shuffle=True, random_state=72)\n",
    "    \n",
    "    for idx_1, idx_2 in kf.split(X):\n",
    "        \n",
    "        target_mean = data_tmp.iloc[idx_1].groupby(c)['target'].mean()\n",
    "        \n",
    "        tmp[idx_2] = X[c].iloc[idx_2].map(target_mean)\n",
    "        \n",
    "    #X[f'{c}_target'] = tmp\n",
    "    X[f'{c}_target_log'] = np.log(tmp)\n",
    "    \n",
    "    #new_col_category.append(f'{c}_target')\n",
    "    new_col_category.append(f'{c}_target_log')"
   ]
  }
 ],
 "metadata": {
  "kernelspec": {
   "display_name": "Python 3",
   "language": "python",
   "name": "python3"
  },
  "language_info": {
   "codemirror_mode": {
    "name": "ipython",
    "version": 3
   },
   "file_extension": ".py",
   "mimetype": "text/x-python",
   "name": "python",
   "nbconvert_exporter": "python",
   "pygments_lexer": "ipython3",
   "version": "3.7.5"
  }
 },
 "nbformat": 4,
 "nbformat_minor": 2
}
